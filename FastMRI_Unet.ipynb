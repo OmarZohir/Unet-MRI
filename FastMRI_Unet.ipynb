{
  "nbformat": 4,
  "nbformat_minor": 5,
  "metadata": {
    "kernelspec": {
      "display_name": "Python 3",
      "language": "python",
      "name": "python3"
    },
    "language_info": {
      "codemirror_mode": {
        "name": "ipython",
        "version": 3
      },
      "file_extension": ".py",
      "mimetype": "text/x-python",
      "name": "python",
      "nbconvert_exporter": "python",
      "pygments_lexer": "ipython3",
      "version": "3.8.8"
    },
    "colab": {
      "provenance": [],
      "include_colab_link": true
    }
  },
  "cells": [
    {
      "cell_type": "markdown",
      "metadata": {
        "id": "view-in-github",
        "colab_type": "text"
      },
      "source": [
        "<a href=\"https://colab.research.google.com/github/OmarZohir/Unet-MRI/blob/main/FastMRI_Unet.ipynb\" target=\"_parent\"><img src=\"https://colab.research.google.com/assets/colab-badge.svg\" alt=\"Open In Colab\"/></a>"
      ]
    },
    {
      "cell_type": "code",
      "metadata": {
        "colab": {
          "base_uri": "https://localhost:8080/"
        },
        "id": "boolean-premium",
        "outputId": "6632eaa0-01dd-4840-8b9a-cd57b4c63f45"
      },
      "source": [
        "from google.colab import drive\n",
        "drive.mount('/content/gdrive')"
      ],
      "id": "boolean-premium",
      "execution_count": null,
      "outputs": [
        {
          "output_type": "stream",
          "text": [
            "Mounted at /content/gdrive\n"
          ],
          "name": "stdout"
        }
      ]
    },
    {
      "cell_type": "code",
      "metadata": {
        "id": "gorgeous-inspection",
        "colab": {
          "base_uri": "https://localhost:8080/",
          "height": 128
        },
        "outputId": "0948b369-3e3d-41b9-cb09-f138b3735387"
      },
      "source": [
        "%matplotlib inline\n",
        "import h5py\n",
        "import numpy as np\n",
        "from matplotlib import pyplot as plt\n",
        "import glob\n",
        "from PIL import Image\n",
        "import fastmri\n",
        "from fastmri.data import transforms as T\n",
        "from fastmri.data.subsample import RandomMaskFunc\n"
      ],
      "id": "gorgeous-inspection",
      "execution_count": null,
      "outputs": [
        {
          "output_type": "error",
          "ename": "SyntaxError",
          "evalue": "ignored",
          "traceback": [
            "\u001b[0;36m  File \u001b[0;32m\"<ipython-input-6-22256290ced3>\"\u001b[0;36m, line \u001b[0;32m7\u001b[0m\n\u001b[0;31m    wget \"https://github.com/facebookresearch/fastMRI\"\u001b[0m\n\u001b[0m                                                     ^\u001b[0m\n\u001b[0;31mSyntaxError\u001b[0m\u001b[0;31m:\u001b[0m invalid syntax\n"
          ]
        }
      ]
    },
    {
      "cell_type": "code",
      "metadata": {
        "id": "minus-cambridge"
      },
      "source": [],
      "id": "minus-cambridge",
      "execution_count": null,
      "outputs": []
    },
    {
      "cell_type": "code",
      "metadata": {
        "colab": {
          "base_uri": "https://localhost:8080/"
        },
        "id": "according-soundtrack",
        "outputId": "18eb9cfa-ff9f-41f4-da92-15377185bd9d"
      },
      "source": [
        "file_names = glob.glob('*.h5')\n",
        "#hf = h5py.File(file_name)\n",
        "file_names"
      ],
      "id": "according-soundtrack",
      "execution_count": null,
      "outputs": [
        {
          "output_type": "execute_result",
          "data": {
            "text/plain": [
              "['file1000071.h5',\n",
              " 'file1000073.h5',\n",
              " 'file1000153.h5',\n",
              " 'file1000201.h5',\n",
              " 'file1000314.h5',\n",
              " 'file1000325.h5',\n",
              " 'file1000328.h5',\n",
              " 'file1000350.h5',\n",
              " 'file1000356.h5',\n",
              " 'file1000432.h5',\n",
              " 'file1000480.h5',\n",
              " 'file1000537.h5',\n",
              " 'file1000552.h5',\n",
              " 'file1000555.h5',\n",
              " 'file1000647.h5',\n",
              " 'file1000660.h5',\n",
              " 'file1000758.h5',\n",
              " 'file1000810.h5',\n",
              " 'file1000842.h5',\n",
              " 'file1000858.h5',\n",
              " 'file1000871.h5',\n",
              " 'file1000885.h5',\n",
              " 'file1000891.h5']"
            ]
          },
          "metadata": {
            "tags": []
          },
          "execution_count": 3
        }
      ]
    },
    {
      "cell_type": "code",
      "metadata": {
        "colab": {
          "base_uri": "https://localhost:8080/"
        },
        "id": "veterinary-aside",
        "outputId": "498f2f70-53c0-4335-804c-a4201c0d2af9"
      },
      "source": [
        "# To save the files in directories\n",
        "\n",
        "for file in file_names:\n",
        "    hf = h5py.File(file)\n",
        "    original_images = hf['reconstruction_esc'][()]\n",
        "    for i in range(original_images.shape[0]):\n",
        "        data = original_images[i]\n",
        "        rescaled = (255.0 / data.max() * (data - data.min())).astype(np.uint8)\n",
        "        im = Image.fromarray(rescaled)\n",
        "        im.save(\"output/\" + file[:-3] + \"_\" + str(i) + \"recon.jpg\")\n",
        "\n",
        "for file in file_names:\n",
        "    hf = h5py.File(file)\n",
        "    original_images = hf['kspace'][()]\n",
        "    for i in range(original_images.shape[0]):\n",
        "        slice_kspace2 = T.to_tensor(original_images[i])\n",
        "        mask_func = RandomMaskFunc(center_fractions=[0.04], accelerations=[8])\n",
        "        masked_kspace, mask = T.apply_mask(slice_kspace2, mask_func)\n",
        "        sampled_image = fastmri.ifft2c(masked_kspace)\n",
        "        sampled_image_abs = fastmri.complex_abs(sampled_image).numpy()\n",
        "        data = sampled_image_abs[320-160:320+160, 184-160:184+160]\n",
        "        rescaled = (255.0 / data.max() * (data - data.min())).astype(np.uint8)\n",
        "        im = Image.fromarray(rescaled)\n",
        "        im.save(\"input/\" + file[:-3] + \"_\" + str(i) + \"_kspace.jpg\")\n",
        "\n",
        "\n",
        "\n",
        ""
      ],
      "id": "veterinary-aside",
      "execution_count": null,
      "outputs": [
        {
          "output_type": "stream",
          "text": [
            "<ipython-input-4-5d645e11812f>:4: H5pyDeprecationWarning: The default file mode will change to 'r' (read-only) in h5py 3.0. To suppress this warning, pass the mode you need to h5py.File(), or set the global default h5.get_config().default_file_mode, or set the environment variable H5PY_DEFAULT_READONLY=1. Available modes are: 'r', 'r+', 'w', 'w-'/'x', 'a'. See the docs for details.\n",
            "  hf = h5py.File(file)\n",
            "<ipython-input-4-5d645e11812f>:13: H5pyDeprecationWarning: The default file mode will change to 'r' (read-only) in h5py 3.0. To suppress this warning, pass the mode you need to h5py.File(), or set the global default h5.get_config().default_file_mode, or set the environment variable H5PY_DEFAULT_READONLY=1. Available modes are: 'r', 'r+', 'w', 'w-'/'x', 'a'. See the docs for details.\n",
            "  hf = h5py.File(file)\n"
          ],
          "name": "stderr"
        }
      ]
    },
    {
      "cell_type": "code",
      "metadata": {
        "colab": {
          "base_uri": "https://localhost:8080/"
        },
        "id": "suffering-moisture",
        "outputId": "96cc36f6-efe7-4c12-bd05-b2d63b3c2fcc"
      },
      "source": [
        "# To save the numpy arrays with the values\n",
        "count = 0\n",
        "full_output = np.zeros((800,320,320))\n",
        "for file in file_names:\n",
        "    hf = h5py.File(file)\n",
        "    original_images = hf['reconstruction_esc'][()]\n",
        "    for i in range(1, original_images.shape[0]):\n",
        "        data = original_images[i]\n",
        "        rescaled = (255.0 / data.max() * (data - data.min())).astype(np.uint8)\n",
        "        full_output[count,:,:] = rescaled\n",
        "        count = count + 1\n",
        "\n",
        "outputs = full_output[0:count]\n",
        "outputs = outputs[..., np.newaxis]\n",
        "\n",
        "count = 0\n",
        "full_input = np.zeros((800,320,320))\n",
        "\n",
        "for file in file_names:\n",
        "    hf = h5py.File(file)\n",
        "    original_images = hf['kspace'][()]\n",
        "    for i in range(1, original_images.shape[0]):\n",
        "        slice_kspace2 = T.to_tensor(original_images[i])\n",
        "        mask_func = RandomMaskFunc(center_fractions=[0.04], accelerations=[8])\n",
        "        masked_kspace, mask = T.apply_mask(slice_kspace2, mask_func)\n",
        "        sampled_image = fastmri.ifft2c(masked_kspace)\n",
        "        sampled_image_abs = fastmri.complex_abs(sampled_image).numpy()\n",
        "        data = sampled_image_abs[320-160:320+160, 184-160:184+160]\n",
        "        rescaled = (255.0 / data.max() * (data - data.min())).astype(np.uint8)\n",
        "        full_input[count,:,:] = rescaled\n",
        "        count = count + 1\n",
        "\n",
        "inputs = full_input[0:count]\n",
        "inputs = inputs[..., np.newaxis]"
      ],
      "id": "suffering-moisture",
      "execution_count": null,
      "outputs": [
        {
          "output_type": "stream",
          "text": [
            "<ipython-input-5-459e75b7959d>:5: H5pyDeprecationWarning: The default file mode will change to 'r' (read-only) in h5py 3.0. To suppress this warning, pass the mode you need to h5py.File(), or set the global default h5.get_config().default_file_mode, or set the environment variable H5PY_DEFAULT_READONLY=1. Available modes are: 'r', 'r+', 'w', 'w-'/'x', 'a'. See the docs for details.\n",
            "  hf = h5py.File(file)\n",
            "<ipython-input-5-459e75b7959d>:20: H5pyDeprecationWarning: The default file mode will change to 'r' (read-only) in h5py 3.0. To suppress this warning, pass the mode you need to h5py.File(), or set the global default h5.get_config().default_file_mode, or set the environment variable H5PY_DEFAULT_READONLY=1. Available modes are: 'r', 'r+', 'w', 'w-'/'x', 'a'. See the docs for details.\n",
            "  hf = h5py.File(file)\n"
          ],
          "name": "stderr"
        }
      ]
    },
    {
      "cell_type": "code",
      "metadata": {
        "colab": {
          "base_uri": "https://localhost:8080/"
        },
        "id": "biblical-spread",
        "outputId": "3c207093-98da-4377-836b-343ed42654dd"
      },
      "source": [
        "\n",
        "import numpy as np\n",
        "import pandas as pd\n",
        "import matplotlib.pyplot as plt\n",
        "import tensorflow as tf\n",
        "from tqdm import tqdm\n",
        "from itertools import chain\n",
        "from skimage.io import imread, imshow, imread_collection, concatenate_images\n",
        "from skimage.transform import resize\n",
        "from skimage.morphology import label\n",
        "from keras.models import Model, load_model\n",
        "from keras.layers import Input\n",
        "from keras import optimizers\n",
        "from keras.layers.core import Dropout, Lambda\n",
        "from keras.layers.convolutional import Conv2D, Conv2DTranspose\n",
        "from keras.layers.pooling import MaxPooling2D\n",
        "from keras.layers.merge import concatenate\n",
        "from keras.callbacks import EarlyStopping, ModelCheckpoint\n",
        "from keras import backend as K\n",
        "import tensorflow as tf\n",
        "import os\n",
        "\n",
        "# UNETs\n",
        "from keras_unet.models import satellite_unet\n",
        "from keras_unet.models import custom_unet"
      ],
      "id": "biblical-spread",
      "execution_count": null,
      "outputs": [
        {
          "output_type": "stream",
          "text": [
            "-----------------------------------------\n",
            "keras-unet init: TF version is >= 2.0.0 - using `tf.keras` instead of `Keras`\n",
            "-----------------------------------------\n"
          ],
          "name": "stdout"
        }
      ]
    },
    {
      "cell_type": "code",
      "metadata": {
        "id": "dressed-microphone"
      },
      "source": [
        "def batch_ssim(y_true, y_pred):\n",
        "    return tf.reduce_mean(tf.image.ssim(y_true, y_pred, max_val=1.0))\n",
        "\n",
        "\n",
        "def batch_msssim(y_true, y_pred):\n",
        "    return tf.reduce_mean(tf.image.ssim_multiscale(y_true, y_pred, max_val=1.0))\n",
        "\n",
        "\n",
        "def batch_psnr(y_true, y_pred):\n",
        "    return tf.reduce_mean(tf.image.psnr(y_true, y_pred, max_val=1.0))\n",
        "\n",
        "\n",
        "def batch_nmse(y_true, y_pred):\n",
        "    return tf.divide(tf.reduce_sum(tf.keras.metrics.mean_squared_error(y_true, y_pred)), tf.reduce_sum(y_true ** 2))\n",
        "\n",
        "\n",
        "def loss_func_ssim(labels, predictions):\n",
        "        return 1 - tf.image.ssim(labels, predictions, max_val=15.0)"
      ],
      "id": "dressed-microphone",
      "execution_count": null,
      "outputs": []
    },
    {
      "cell_type": "code",
      "metadata": {
        "id": "distributed-samba"
      },
      "source": [
        "model=None"
      ],
      "id": "distributed-samba",
      "execution_count": null,
      "outputs": []
    },
    {
      "cell_type": "code",
      "metadata": {
        "id": "demanding-editor"
      },
      "source": [
        "def u1():\n",
        "    inputs = Input((320, 320, 1))\n",
        "    #s = Lambda(lambda x: x / 255) (inputs)\n",
        "\n",
        "    c1 = Conv2D(16, (3, 3), activation='elu', kernel_initializer='he_normal', padding='same') (inputs)\n",
        "    c1 = Dropout(0.1) (c1)\n",
        "    c1 = Conv2D(16, (3, 3), activation='elu', kernel_initializer='he_normal', padding='same') (c1)\n",
        "    p1 = MaxPooling2D((2, 2)) (c1)\n",
        "\n",
        "    c2 = Conv2D(32, (3, 3), activation='elu', kernel_initializer='he_normal', padding='same') (p1)\n",
        "    c2 = Dropout(0.1) (c2)\n",
        "    c2 = Conv2D(32, (3, 3), activation='elu', kernel_initializer='he_normal', padding='same') (c2)\n",
        "    p2 = MaxPooling2D((2, 2)) (c2)\n",
        "\n",
        "    c3 = Conv2D(64, (3, 3), activation='elu', kernel_initializer='he_normal', padding='same') (p2)\n",
        "    c3 = Dropout(0.2) (c3)\n",
        "    c3 = Conv2D(64, (3, 3), activation='elu', kernel_initializer='he_normal', padding='same') (c3)\n",
        "    p3 = MaxPooling2D((2, 2)) (c3)\n",
        "\n",
        "    c4 = Conv2D(128, (3, 3), activation='elu', kernel_initializer='he_normal', padding='same') (p3)\n",
        "    c4 = Dropout(0.2) (c4)\n",
        "    c4 = Conv2D(128, (3, 3), activation='elu', kernel_initializer='he_normal', padding='same') (c4)\n",
        "    p4 = MaxPooling2D(pool_size=(2, 2)) (c4)\n",
        "\n",
        "    c5 = Conv2D(256, (3, 3), activation='elu', kernel_initializer='he_normal', padding='same') (p4)\n",
        "    c5 = Dropout(0.3) (c5)\n",
        "    c5 = Conv2D(256, (3, 3), activation='elu', kernel_initializer='he_normal', padding='same') (c5)\n",
        "\n",
        "    u6 = Conv2DTranspose(128, (2, 2), strides=(2, 2), padding='same') (c5)\n",
        "    u6 = concatenate([u6, c4])\n",
        "    c6 = Conv2D(128, (3, 3), activation='elu', kernel_initializer='he_normal', padding='same') (u6)\n",
        "    c6 = Dropout(0.2) (c6)\n",
        "    c6 = Conv2D(128, (3, 3), activation='elu', kernel_initializer='he_normal', padding='same') (c6)\n",
        "\n",
        "    u7 = Conv2DTranspose(64, (2, 2), strides=(2, 2), padding='same') (c6)\n",
        "    u7 = concatenate([u7, c3])\n",
        "    c7 = Conv2D(64, (3, 3), activation='elu', kernel_initializer='he_normal', padding='same') (u7)\n",
        "    c7 = Dropout(0.2) (c7)\n",
        "    c7 = Conv2D(64, (3, 3), activation='elu', kernel_initializer='he_normal', padding='same') (c7)\n",
        "\n",
        "    u8 = Conv2DTranspose(32, (2, 2), strides=(2, 2), padding='same') (c7)\n",
        "    u8 = concatenate([u8, c2])\n",
        "    c8 = Conv2D(32, (3, 3), activation='elu', kernel_initializer='he_normal', padding='same') (u8)\n",
        "    c8 = Dropout(0.1) (c8)\n",
        "    c8 = Conv2D(32, (3, 3), activation='elu', kernel_initializer='he_normal', padding='same') (c8)\n",
        "\n",
        "    u9 = Conv2DTranspose(16, (2, 2), strides=(2, 2), padding='same') (c8)\n",
        "    u9 = concatenate([u9, c1], axis=3)\n",
        "    c9 = Conv2D(16, (3, 3), activation='elu', kernel_initializer='he_normal', padding='same') (u9)\n",
        "    c9 = Dropout(0.1) (c9)\n",
        "    c9 = Conv2D(16, (3, 3), activation='elu', kernel_initializer='he_normal', padding='same') (c9)\n",
        "\n",
        "    outputs = Conv2D(1, (1, 1), activation='sigmoid') (c9)\n",
        "\n",
        "    model = Model(inputs=[inputs], outputs=[outputs])\n",
        "    model.compile(optimizer=optimizers.Adam(lr=0.001), loss='mae', metrics=[batch_ssim, batch_psnr, batch_msssim, batch_nmse])\n",
        "    return model"
      ],
      "id": "demanding-editor",
      "execution_count": null,
      "outputs": []
    },
    {
      "cell_type": "code",
      "metadata": {
        "colab": {
          "base_uri": "https://localhost:8080/"
        },
        "id": "hispanic-filing",
        "outputId": "b00768ec-9270-4bdd-92c6-a7c2230f9020"
      },
      "source": [
        "model = None\n",
        "\n",
        "def u2():\n",
        "    model = satellite_unet(input_shape=(320, 320, 1))\n",
        "    model.compile(optimizer=optimizers.Adam(lr=0.0001), loss='mae', metrics=[batch_ssim, batch_psnr, batch_msssim, batch_nmse])\n",
        "    return model\n",
        "\n",
        "def u3():\n",
        "    model = custom_unet(\n",
        "    (320, 320, 1),\n",
        "    use_batch_norm=False,\n",
        "    num_classes=1,\n",
        "    filters=64,\n",
        "    dropout=0.2,\n",
        "    output_activation='sigmoid'\n",
        ")\n",
        "\n",
        "    model.compile(optimizer=optimizers.Adam(lr=0.001), loss=loss_func_ssim, metrics=[batch_ssim, batch_psnr, batch_msssim, batch_nmse])\n",
        "    return model\n",
        "\n",
        "model = u2()\n",
        "model.summary()"
      ],
      "id": "hispanic-filing",
      "execution_count": null,
      "outputs": [
        {
          "output_type": "stream",
          "text": [
            "Model: \"model\"\n",
            "__________________________________________________________________________________________________\n",
            "Layer (type)                    Output Shape         Param #     Connected to                     \n",
            "==================================================================================================\n",
            "input_1 (InputLayer)            [(None, 320, 320, 1) 0                                            \n",
            "__________________________________________________________________________________________________\n",
            "conv2d (Conv2D)                 (None, 320, 320, 64) 640         input_1[0][0]                    \n",
            "__________________________________________________________________________________________________\n",
            "batch_normalization (BatchNorma (None, 320, 320, 64) 256         conv2d[0][0]                     \n",
            "__________________________________________________________________________________________________\n",
            "conv2d_1 (Conv2D)               (None, 320, 320, 64) 36928       batch_normalization[0][0]        \n",
            "__________________________________________________________________________________________________\n",
            "batch_normalization_1 (BatchNor (None, 320, 320, 64) 256         conv2d_1[0][0]                   \n",
            "__________________________________________________________________________________________________\n",
            "conv2d_2 (Conv2D)               (None, 320, 320, 64) 36928       batch_normalization_1[0][0]      \n",
            "__________________________________________________________________________________________________\n",
            "max_pooling2d (MaxPooling2D)    (None, 160, 160, 64) 0           conv2d_2[0][0]                   \n",
            "__________________________________________________________________________________________________\n",
            "batch_normalization_2 (BatchNor (None, 160, 160, 64) 256         max_pooling2d[0][0]              \n",
            "__________________________________________________________________________________________________\n",
            "conv2d_3 (Conv2D)               (None, 160, 160, 64) 36928       batch_normalization_2[0][0]      \n",
            "__________________________________________________________________________________________________\n",
            "batch_normalization_3 (BatchNor (None, 160, 160, 64) 256         conv2d_3[0][0]                   \n",
            "__________________________________________________________________________________________________\n",
            "conv2d_4 (Conv2D)               (None, 160, 160, 64) 36928       batch_normalization_3[0][0]      \n",
            "__________________________________________________________________________________________________\n",
            "batch_normalization_4 (BatchNor (None, 160, 160, 64) 256         conv2d_4[0][0]                   \n",
            "__________________________________________________________________________________________________\n",
            "conv2d_5 (Conv2D)               (None, 160, 160, 64) 36928       batch_normalization_4[0][0]      \n",
            "__________________________________________________________________________________________________\n",
            "max_pooling2d_1 (MaxPooling2D)  (None, 80, 80, 64)   0           conv2d_5[0][0]                   \n",
            "__________________________________________________________________________________________________\n",
            "batch_normalization_5 (BatchNor (None, 80, 80, 64)   256         max_pooling2d_1[0][0]            \n",
            "__________________________________________________________________________________________________\n",
            "conv2d_6 (Conv2D)               (None, 80, 80, 64)   36928       batch_normalization_5[0][0]      \n",
            "__________________________________________________________________________________________________\n",
            "batch_normalization_6 (BatchNor (None, 80, 80, 64)   256         conv2d_6[0][0]                   \n",
            "__________________________________________________________________________________________________\n",
            "conv2d_7 (Conv2D)               (None, 80, 80, 64)   36928       batch_normalization_6[0][0]      \n",
            "__________________________________________________________________________________________________\n",
            "batch_normalization_7 (BatchNor (None, 80, 80, 64)   256         conv2d_7[0][0]                   \n",
            "__________________________________________________________________________________________________\n",
            "conv2d_8 (Conv2D)               (None, 80, 80, 64)   36928       batch_normalization_7[0][0]      \n",
            "__________________________________________________________________________________________________\n",
            "max_pooling2d_2 (MaxPooling2D)  (None, 40, 40, 64)   0           conv2d_8[0][0]                   \n",
            "__________________________________________________________________________________________________\n",
            "batch_normalization_8 (BatchNor (None, 40, 40, 64)   256         max_pooling2d_2[0][0]            \n",
            "__________________________________________________________________________________________________\n",
            "conv2d_9 (Conv2D)               (None, 40, 40, 64)   36928       batch_normalization_8[0][0]      \n",
            "__________________________________________________________________________________________________\n",
            "batch_normalization_9 (BatchNor (None, 40, 40, 64)   256         conv2d_9[0][0]                   \n",
            "__________________________________________________________________________________________________\n",
            "conv2d_10 (Conv2D)              (None, 40, 40, 64)   36928       batch_normalization_9[0][0]      \n",
            "__________________________________________________________________________________________________\n",
            "batch_normalization_10 (BatchNo (None, 40, 40, 64)   256         conv2d_10[0][0]                  \n",
            "__________________________________________________________________________________________________\n",
            "conv2d_11 (Conv2D)              (None, 40, 40, 64)   36928       batch_normalization_10[0][0]     \n",
            "__________________________________________________________________________________________________\n",
            "max_pooling2d_3 (MaxPooling2D)  (None, 20, 20, 64)   0           conv2d_11[0][0]                  \n",
            "__________________________________________________________________________________________________\n",
            "batch_normalization_11 (BatchNo (None, 20, 20, 64)   256         max_pooling2d_3[0][0]            \n",
            "__________________________________________________________________________________________________\n",
            "conv2d_12 (Conv2D)              (None, 20, 20, 64)   36928       batch_normalization_11[0][0]     \n",
            "__________________________________________________________________________________________________\n",
            "batch_normalization_12 (BatchNo (None, 20, 20, 64)   256         conv2d_12[0][0]                  \n",
            "__________________________________________________________________________________________________\n",
            "conv2d_13 (Conv2D)              (None, 20, 20, 64)   36928       batch_normalization_12[0][0]     \n",
            "__________________________________________________________________________________________________\n",
            "batch_normalization_13 (BatchNo (None, 20, 20, 64)   256         conv2d_13[0][0]                  \n",
            "__________________________________________________________________________________________________\n",
            "conv2d_14 (Conv2D)              (None, 20, 20, 64)   36928       batch_normalization_13[0][0]     \n",
            "__________________________________________________________________________________________________\n",
            "max_pooling2d_4 (MaxPooling2D)  (None, 10, 10, 64)   0           conv2d_14[0][0]                  \n",
            "__________________________________________________________________________________________________\n",
            "batch_normalization_14 (BatchNo (None, 10, 10, 64)   256         max_pooling2d_4[0][0]            \n",
            "__________________________________________________________________________________________________\n",
            "conv2d_15 (Conv2D)              (None, 10, 10, 64)   36928       batch_normalization_14[0][0]     \n",
            "__________________________________________________________________________________________________\n",
            "batch_normalization_15 (BatchNo (None, 10, 10, 64)   256         conv2d_15[0][0]                  \n",
            "__________________________________________________________________________________________________\n",
            "conv2d_16 (Conv2D)              (None, 10, 10, 64)   36928       batch_normalization_15[0][0]     \n",
            "__________________________________________________________________________________________________\n",
            "batch_normalization_16 (BatchNo (None, 10, 10, 64)   256         conv2d_16[0][0]                  \n",
            "__________________________________________________________________________________________________\n",
            "conv2d_transpose (Conv2DTranspo (None, 20, 20, 64)   36928       batch_normalization_16[0][0]     \n",
            "__________________________________________________________________________________________________\n",
            "concatenate (Concatenate)       (None, 20, 20, 128)  0           conv2d_transpose[0][0]           \n",
            "                                                                 conv2d_13[0][0]                  \n",
            "__________________________________________________________________________________________________\n",
            "batch_normalization_17 (BatchNo (None, 20, 20, 128)  512         concatenate[0][0]                \n",
            "__________________________________________________________________________________________________\n",
            "conv2d_17 (Conv2D)              (None, 20, 20, 96)   110688      batch_normalization_17[0][0]     \n",
            "__________________________________________________________________________________________________\n",
            "batch_normalization_18 (BatchNo (None, 20, 20, 96)   384         conv2d_17[0][0]                  \n",
            "__________________________________________________________________________________________________\n",
            "conv2d_18 (Conv2D)              (None, 20, 20, 64)   55360       batch_normalization_18[0][0]     \n",
            "__________________________________________________________________________________________________\n",
            "batch_normalization_19 (BatchNo (None, 20, 20, 64)   256         conv2d_18[0][0]                  \n",
            "__________________________________________________________________________________________________\n",
            "conv2d_transpose_1 (Conv2DTrans (None, 40, 40, 64)   36928       batch_normalization_19[0][0]     \n",
            "__________________________________________________________________________________________________\n",
            "concatenate_1 (Concatenate)     (None, 40, 40, 128)  0           conv2d_transpose_1[0][0]         \n",
            "                                                                 conv2d_10[0][0]                  \n",
            "__________________________________________________________________________________________________\n",
            "batch_normalization_20 (BatchNo (None, 40, 40, 128)  512         concatenate_1[0][0]              \n",
            "__________________________________________________________________________________________________\n",
            "conv2d_19 (Conv2D)              (None, 40, 40, 96)   110688      batch_normalization_20[0][0]     \n",
            "__________________________________________________________________________________________________\n",
            "batch_normalization_21 (BatchNo (None, 40, 40, 96)   384         conv2d_19[0][0]                  \n",
            "__________________________________________________________________________________________________\n",
            "conv2d_20 (Conv2D)              (None, 40, 40, 64)   55360       batch_normalization_21[0][0]     \n",
            "__________________________________________________________________________________________________\n",
            "batch_normalization_22 (BatchNo (None, 40, 40, 64)   256         conv2d_20[0][0]                  \n",
            "__________________________________________________________________________________________________\n",
            "conv2d_transpose_2 (Conv2DTrans (None, 80, 80, 64)   36928       batch_normalization_22[0][0]     \n",
            "__________________________________________________________________________________________________\n",
            "concatenate_2 (Concatenate)     (None, 80, 80, 128)  0           conv2d_transpose_2[0][0]         \n",
            "                                                                 conv2d_7[0][0]                   \n",
            "__________________________________________________________________________________________________\n",
            "batch_normalization_23 (BatchNo (None, 80, 80, 128)  512         concatenate_2[0][0]              \n",
            "__________________________________________________________________________________________________\n",
            "conv2d_21 (Conv2D)              (None, 80, 80, 96)   110688      batch_normalization_23[0][0]     \n",
            "__________________________________________________________________________________________________\n",
            "batch_normalization_24 (BatchNo (None, 80, 80, 96)   384         conv2d_21[0][0]                  \n",
            "__________________________________________________________________________________________________\n",
            "conv2d_22 (Conv2D)              (None, 80, 80, 64)   55360       batch_normalization_24[0][0]     \n",
            "__________________________________________________________________________________________________\n",
            "batch_normalization_25 (BatchNo (None, 80, 80, 64)   256         conv2d_22[0][0]                  \n",
            "__________________________________________________________________________________________________\n",
            "conv2d_transpose_3 (Conv2DTrans (None, 160, 160, 64) 36928       batch_normalization_25[0][0]     \n",
            "__________________________________________________________________________________________________\n",
            "concatenate_3 (Concatenate)     (None, 160, 160, 128 0           conv2d_transpose_3[0][0]         \n",
            "                                                                 conv2d_4[0][0]                   \n",
            "__________________________________________________________________________________________________\n",
            "batch_normalization_26 (BatchNo (None, 160, 160, 128 512         concatenate_3[0][0]              \n",
            "__________________________________________________________________________________________________\n",
            "conv2d_23 (Conv2D)              (None, 160, 160, 96) 110688      batch_normalization_26[0][0]     \n",
            "__________________________________________________________________________________________________\n",
            "batch_normalization_27 (BatchNo (None, 160, 160, 96) 384         conv2d_23[0][0]                  \n",
            "__________________________________________________________________________________________________\n",
            "conv2d_24 (Conv2D)              (None, 160, 160, 64) 55360       batch_normalization_27[0][0]     \n",
            "__________________________________________________________________________________________________\n",
            "batch_normalization_28 (BatchNo (None, 160, 160, 64) 256         conv2d_24[0][0]                  \n",
            "__________________________________________________________________________________________________\n",
            "conv2d_transpose_4 (Conv2DTrans (None, 320, 320, 64) 36928       batch_normalization_28[0][0]     \n",
            "__________________________________________________________________________________________________\n",
            "concatenate_4 (Concatenate)     (None, 320, 320, 128 0           conv2d_transpose_4[0][0]         \n",
            "                                                                 conv2d_1[0][0]                   \n",
            "__________________________________________________________________________________________________\n",
            "batch_normalization_29 (BatchNo (None, 320, 320, 128 512         concatenate_4[0][0]              \n",
            "__________________________________________________________________________________________________\n",
            "conv2d_25 (Conv2D)              (None, 320, 320, 96) 110688      batch_normalization_29[0][0]     \n",
            "__________________________________________________________________________________________________\n",
            "batch_normalization_30 (BatchNo (None, 320, 320, 96) 384         conv2d_25[0][0]                  \n",
            "__________________________________________________________________________________________________\n",
            "conv2d_26 (Conv2D)              (None, 320, 320, 64) 55360       batch_normalization_30[0][0]     \n",
            "__________________________________________________________________________________________________\n",
            "conv2d_27 (Conv2D)              (None, 320, 320, 1)  65          conv2d_26[0][0]                  \n",
            "==================================================================================================\n",
            "Total params: 1,616,289\n",
            "Trainable params: 1,611,361\n",
            "Non-trainable params: 4,928\n",
            "__________________________________________________________________________________________________\n"
          ],
          "name": "stdout"
        }
      ]
    },
    {
      "cell_type": "code",
      "metadata": {
        "colab": {
          "base_uri": "https://localhost:8080/"
        },
        "id": "european-postage",
        "outputId": "1f37a43d-4140-4518-a89d-a96ea955499d"
      },
      "source": [
        "inputs.shape, outputs.shape"
      ],
      "id": "european-postage",
      "execution_count": null,
      "outputs": [
        {
          "output_type": "execute_result",
          "data": {
            "text/plain": [
              "((763, 320, 320, 1), (763, 320, 320, 1))"
            ]
          },
          "metadata": {
            "tags": []
          },
          "execution_count": 11
        }
      ]
    },
    {
      "cell_type": "code",
      "metadata": {
        "id": "strategic-objective"
      },
      "source": [
        "h = model.fit(inputs, outputs, validation_split=0.05, batch_size=2, epochs=20)"
      ],
      "id": "strategic-objective",
      "execution_count": null,
      "outputs": []
    },
    {
      "cell_type": "code",
      "metadata": {
        "id": "elegant-committee"
      },
      "source": [],
      "id": "elegant-committee",
      "execution_count": null,
      "outputs": []
    },
    {
      "cell_type": "code",
      "metadata": {
        "id": "fifty-maria"
      },
      "source": [],
      "id": "fifty-maria",
      "execution_count": null,
      "outputs": []
    }
  ]
}